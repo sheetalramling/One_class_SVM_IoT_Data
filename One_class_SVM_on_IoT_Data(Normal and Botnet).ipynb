{
 "cells": [
  {
   "cell_type": "markdown",
   "metadata": {},
   "source": [
    "### Analysis performed by comparing legitimate and infected behaviours on multiple scenarios."
   ]
  },
  {
   "cell_type": "code",
   "execution_count": 1,
   "metadata": {},
   "outputs": [],
   "source": [
    "import pandas as pd\n",
    "import numpy as np\n",
    "import random\n",
    "import math\n",
    "import operator\n",
    "import matplotlib.pyplot as plt\n",
    "import seaborn as sns\n",
    "from sklearn.linear_model import LogisticRegression\n",
    "from sklearn.cluster import KMeans\n",
    "from sklearn.preprocessing import LabelEncoder\n",
    "import matplotlib.pyplot as plt\n",
    "from sklearn.model_selection import train_test_split\n",
    "from sklearn.metrics import accuracy_score"
   ]
  },
  {
   "cell_type": "markdown",
   "metadata": {},
   "source": [
    "### Data : \n",
    "Dataset generated contains data from a real IoT device that was infected by botnet malware in a laboratory. The dataset can be used to support the development of defence tools for IoT devices to identify botnets, as it contains network traffic and host-based features, such as, CPU and memory usage. The dataset and network environment files are available for the research community.\n",
    "This dataset contains data collected from a real IoT device, a Raspberry Pi, which was infected by botnet malware in a controled environment. The goal of this dataset is to provide means to observe different perspectives of the operation of the device such as the use of CPU and memory and the network traffic. The collected data includes legitimate and malicious behavior.Legitimate data concerns the emulation of regular behavior of domestic IoT devices, such as surveillance cameras.\n",
    "The following features were analysed: CPU usage,memory usage, electric potential difference, number of tasks running, CPU temperature."
   ]
  },
  {
   "cell_type": "code",
   "execution_count": 2,
   "metadata": {},
   "outputs": [
    {
     "data": {
      "text/html": [
       "<div>\n",
       "<style scoped>\n",
       "    .dataframe tbody tr th:only-of-type {\n",
       "        vertical-align: middle;\n",
       "    }\n",
       "\n",
       "    .dataframe tbody tr th {\n",
       "        vertical-align: top;\n",
       "    }\n",
       "\n",
       "    .dataframe thead th {\n",
       "        text-align: right;\n",
       "    }\n",
       "</style>\n",
       "<table border=\"1\" class=\"dataframe\">\n",
       "  <thead>\n",
       "    <tr style=\"text-align: right;\">\n",
       "      <th></th>\n",
       "      <th>volt</th>\n",
       "      <th>cpu</th>\n",
       "      <th>mem</th>\n",
       "      <th>tasks</th>\n",
       "      <th>temp</th>\n",
       "      <th>Attack_Type</th>\n",
       "      <th>Profile</th>\n",
       "      <th>class</th>\n",
       "    </tr>\n",
       "  </thead>\n",
       "  <tbody>\n",
       "    <tr>\n",
       "      <th>0</th>\n",
       "      <td>1.2125</td>\n",
       "      <td>9.4</td>\n",
       "      <td>241220</td>\n",
       "      <td>173</td>\n",
       "      <td>79.5</td>\n",
       "      <td>1</td>\n",
       "      <td>MC</td>\n",
       "      <td>legit</td>\n",
       "    </tr>\n",
       "    <tr>\n",
       "      <th>1</th>\n",
       "      <td>1.2125</td>\n",
       "      <td>9.4</td>\n",
       "      <td>241220</td>\n",
       "      <td>173</td>\n",
       "      <td>79.5</td>\n",
       "      <td>1</td>\n",
       "      <td>MC</td>\n",
       "      <td>legit</td>\n",
       "    </tr>\n",
       "    <tr>\n",
       "      <th>2</th>\n",
       "      <td>1.2125</td>\n",
       "      <td>9.4</td>\n",
       "      <td>241220</td>\n",
       "      <td>173</td>\n",
       "      <td>79.5</td>\n",
       "      <td>1</td>\n",
       "      <td>MC</td>\n",
       "      <td>legit</td>\n",
       "    </tr>\n",
       "    <tr>\n",
       "      <th>3</th>\n",
       "      <td>1.2125</td>\n",
       "      <td>9.4</td>\n",
       "      <td>241220</td>\n",
       "      <td>173</td>\n",
       "      <td>79.5</td>\n",
       "      <td>1</td>\n",
       "      <td>MC</td>\n",
       "      <td>legit</td>\n",
       "    </tr>\n",
       "    <tr>\n",
       "      <th>4</th>\n",
       "      <td>1.2125</td>\n",
       "      <td>9.4</td>\n",
       "      <td>241220</td>\n",
       "      <td>173</td>\n",
       "      <td>79.5</td>\n",
       "      <td>1</td>\n",
       "      <td>MC</td>\n",
       "      <td>legit</td>\n",
       "    </tr>\n",
       "  </tbody>\n",
       "</table>\n",
       "</div>"
      ],
      "text/plain": [
       "     volt  cpu     mem  tasks  temp  Attack_Type Profile  class\n",
       "0  1.2125  9.4  241220    173  79.5            1      MC  legit\n",
       "1  1.2125  9.4  241220    173  79.5            1      MC  legit\n",
       "2  1.2125  9.4  241220    173  79.5            1      MC  legit\n",
       "3  1.2125  9.4  241220    173  79.5            1      MC  legit\n",
       "4  1.2125  9.4  241220    173  79.5            1      MC  legit"
      ]
     },
     "execution_count": 2,
     "metadata": {},
     "output_type": "execute_result"
    }
   ],
   "source": [
    "data=pd.read_excel('C:/SIoT/Dataset/Bot3.xlsx')\n",
    "data.head()"
   ]
  },
  {
   "cell_type": "code",
   "execution_count": 3,
   "metadata": {},
   "outputs": [
    {
     "data": {
      "text/plain": [
       "(124876, 8)"
      ]
     },
     "execution_count": 3,
     "metadata": {},
     "output_type": "execute_result"
    }
   ],
   "source": [
    "data.shape"
   ]
  },
  {
   "cell_type": "code",
   "execution_count": 4,
   "metadata": {},
   "outputs": [
    {
     "name": "stdout",
     "output_type": "stream",
     "text": [
      "<class 'pandas.core.frame.DataFrame'>\n",
      "RangeIndex: 124876 entries, 0 to 124875\n",
      "Data columns (total 8 columns):\n",
      " #   Column       Non-Null Count   Dtype  \n",
      "---  ------       --------------   -----  \n",
      " 0   volt         124876 non-null  float64\n",
      " 1   cpu          124876 non-null  float64\n",
      " 2   mem          124876 non-null  int64  \n",
      " 3   tasks        124876 non-null  int64  \n",
      " 4   temp         124876 non-null  float64\n",
      " 5   Attack_Type  124876 non-null  int64  \n",
      " 6   Profile      124876 non-null  object \n",
      " 7   class        124876 non-null  object \n",
      "dtypes: float64(3), int64(3), object(2)\n",
      "memory usage: 7.6+ MB\n",
      "None\n"
     ]
    }
   ],
   "source": [
    "print(data.info())"
   ]
  },
  {
   "cell_type": "code",
   "execution_count": 5,
   "metadata": {},
   "outputs": [
    {
     "data": {
      "text/plain": [
       "volt           0\n",
       "cpu            0\n",
       "mem            0\n",
       "tasks          0\n",
       "temp           0\n",
       "Attack_Type    0\n",
       "Profile        0\n",
       "class          0\n",
       "dtype: int64"
      ]
     },
     "execution_count": 5,
     "metadata": {},
     "output_type": "execute_result"
    }
   ],
   "source": [
    "data.isnull().sum()"
   ]
  },
  {
   "cell_type": "markdown",
   "metadata": {},
   "source": [
    "#### There are no null values"
   ]
  },
  {
   "cell_type": "code",
   "execution_count": 6,
   "metadata": {},
   "outputs": [
    {
     "data": {
      "text/plain": [
       "111003"
      ]
     },
     "execution_count": 6,
     "metadata": {},
     "output_type": "execute_result"
    }
   ],
   "source": [
    "#Identify duplicates records in the data\n",
    "dup=data.duplicated()\n",
    "sum(dup)"
   ]
  },
  {
   "cell_type": "markdown",
   "metadata": {},
   "source": [
    "#### Removing the duplicate data and working only with unique data"
   ]
  },
  {
   "cell_type": "code",
   "execution_count": 7,
   "metadata": {},
   "outputs": [
    {
     "data": {
      "text/plain": [
       "(13873, 8)"
      ]
     },
     "execution_count": 7,
     "metadata": {},
     "output_type": "execute_result"
    }
   ],
   "source": [
    "data_unique=data.drop_duplicates()\n",
    "data_unique.shape"
   ]
  },
  {
   "cell_type": "code",
   "execution_count": 8,
   "metadata": {},
   "outputs": [
    {
     "data": {
      "image/png": "[encoded data removed]",
      "text/plain": [
       "<Figure size 432x288 with 1 Axes>"
      ]
     },
     "metadata": {
      "needs_background": "light"
     },
     "output_type": "display_data"
    }
   ],
   "source": [
    "x=data_unique['class']\n",
    "ax=sns.countplot(x=x,data=data)"
   ]
  },
  {
   "cell_type": "code",
   "execution_count": 9,
   "metadata": {},
   "outputs": [
    {
     "data": {
      "image/png": "[encoded data removed]",
      "text/plain": [
       "<Figure size 432x288 with 1 Axes>"
      ]
     },
     "metadata": {
      "needs_background": "light"
     },
     "output_type": "display_data"
    }
   ],
   "source": [
    "x=data_unique['Profile']\n",
    "ax=sns.countplot(x=x,data=data)"
   ]
  },
  {
   "cell_type": "code",
   "execution_count": 10,
   "metadata": {},
   "outputs": [
    {
     "name": "stdout",
     "output_type": "stream",
     "text": [
      "              cpu\n",
      "Attack_Type      \n",
      "1            4140\n",
      "2            4869\n",
      "3            4864\n"
     ]
    }
   ],
   "source": [
    "profile_data=data_unique.groupby('Attack_Type')[['cpu']].count()\n",
    "print(profile_data)"
   ]
  },
  {
   "cell_type": "markdown",
   "metadata": {},
   "source": [
    "#### Computing average CPU usage when infected with  various botnet types for different  profiles and comparing with average without any infections"
   ]
  },
  {
   "cell_type": "code",
   "execution_count": 11,
   "metadata": {
    "scrolled": true
   },
   "outputs": [],
   "source": [
    "overall_cpu_average=data_unique['cpu'].mean()\n",
    "cpu_average=data_unique.groupby(['class','Profile','Attack_Type']).agg({'cpu':['mean']})\n",
    "df = pd.DataFrame(cpu_average)\n"
   ]
  },
  {
   "cell_type": "code",
   "execution_count": 12,
   "metadata": {},
   "outputs": [
    {
     "data": {
      "text/plain": [
       "MultiIndex([('cpu', 'mean')],\n",
       "           )"
      ]
     },
     "execution_count": 12,
     "metadata": {},
     "output_type": "execute_result"
    }
   ],
   "source": [
    "cpu_average.columns"
   ]
  },
  {
   "cell_type": "code",
   "execution_count": 13,
   "metadata": {},
   "outputs": [],
   "source": [
    "df.columns = df.columns.get_level_values(0)"
   ]
  },
  {
   "cell_type": "code",
   "execution_count": 14,
   "metadata": {},
   "outputs": [
    {
     "data": {
      "text/plain": [
       "Index(['cpu'], dtype='object')"
      ]
     },
     "execution_count": 14,
     "metadata": {},
     "output_type": "execute_result"
    }
   ],
   "source": [
    "df.columns\n"
   ]
  },
  {
   "cell_type": "code",
   "execution_count": 15,
   "metadata": {},
   "outputs": [
    {
     "data": {
      "text/html": [
       "<div>\n",
       "<style scoped>\n",
       "    .dataframe tbody tr th:only-of-type {\n",
       "        vertical-align: middle;\n",
       "    }\n",
       "\n",
       "    .dataframe tbody tr th {\n",
       "        vertical-align: top;\n",
       "    }\n",
       "\n",
       "    .dataframe thead th {\n",
       "        text-align: right;\n",
       "    }\n",
       "</style>\n",
       "<table border=\"1\" class=\"dataframe\">\n",
       "  <thead>\n",
       "    <tr style=\"text-align: right;\">\n",
       "      <th></th>\n",
       "      <th></th>\n",
       "      <th></th>\n",
       "      <th>cpu</th>\n",
       "    </tr>\n",
       "    <tr>\n",
       "      <th>class</th>\n",
       "      <th>Profile</th>\n",
       "      <th>Attack_Type</th>\n",
       "      <th></th>\n",
       "    </tr>\n",
       "  </thead>\n",
       "  <tbody>\n",
       "    <tr>\n",
       "      <th rowspan=\"8\" valign=\"top\">botnet</th>\n",
       "      <th rowspan=\"3\" valign=\"top\">MC</th>\n",
       "      <th>1</th>\n",
       "      <td>16.892361</td>\n",
       "    </tr>\n",
       "    <tr>\n",
       "      <th>2</th>\n",
       "      <td>16.896260</td>\n",
       "    </tr>\n",
       "    <tr>\n",
       "      <th>3</th>\n",
       "      <td>16.898202</td>\n",
       "    </tr>\n",
       "    <tr>\n",
       "      <th rowspan=\"3\" valign=\"top\">SC</th>\n",
       "      <th>1</th>\n",
       "      <td>7.450495</td>\n",
       "    </tr>\n",
       "    <tr>\n",
       "      <th>2</th>\n",
       "      <td>7.449787</td>\n",
       "    </tr>\n",
       "    <tr>\n",
       "      <th>3</th>\n",
       "      <td>7.450495</td>\n",
       "    </tr>\n",
       "    <tr>\n",
       "      <th rowspan=\"2\" valign=\"top\">ST</th>\n",
       "      <th>2</th>\n",
       "      <td>11.286283</td>\n",
       "    </tr>\n",
       "    <tr>\n",
       "      <th>3</th>\n",
       "      <td>11.244938</td>\n",
       "    </tr>\n",
       "    <tr>\n",
       "      <th rowspan=\"9\" valign=\"top\">legit</th>\n",
       "      <th rowspan=\"3\" valign=\"top\">MC</th>\n",
       "      <th>1</th>\n",
       "      <td>18.273353</td>\n",
       "    </tr>\n",
       "    <tr>\n",
       "      <th>2</th>\n",
       "      <td>18.273353</td>\n",
       "    </tr>\n",
       "    <tr>\n",
       "      <th>3</th>\n",
       "      <td>18.273353</td>\n",
       "    </tr>\n",
       "    <tr>\n",
       "      <th rowspan=\"3\" valign=\"top\">SC</th>\n",
       "      <th>1</th>\n",
       "      <td>6.140650</td>\n",
       "    </tr>\n",
       "    <tr>\n",
       "      <th>2</th>\n",
       "      <td>6.140650</td>\n",
       "    </tr>\n",
       "    <tr>\n",
       "      <th>3</th>\n",
       "      <td>6.140650</td>\n",
       "    </tr>\n",
       "    <tr>\n",
       "      <th rowspan=\"3\" valign=\"top\">ST</th>\n",
       "      <th>1</th>\n",
       "      <td>7.660857</td>\n",
       "    </tr>\n",
       "    <tr>\n",
       "      <th>2</th>\n",
       "      <td>7.660857</td>\n",
       "    </tr>\n",
       "    <tr>\n",
       "      <th>3</th>\n",
       "      <td>7.660857</td>\n",
       "    </tr>\n",
       "  </tbody>\n",
       "</table>\n",
       "</div>"
      ],
      "text/plain": [
       "                                  cpu\n",
       "class  Profile Attack_Type           \n",
       "botnet MC      1            16.892361\n",
       "               2            16.896260\n",
       "               3            16.898202\n",
       "       SC      1             7.450495\n",
       "               2             7.449787\n",
       "               3             7.450495\n",
       "       ST      2            11.286283\n",
       "               3            11.244938\n",
       "legit  MC      1            18.273353\n",
       "               2            18.273353\n",
       "               3            18.273353\n",
       "       SC      1             6.140650\n",
       "               2             6.140650\n",
       "               3             6.140650\n",
       "       ST      1             7.660857\n",
       "               2             7.660857\n",
       "               3             7.660857"
      ]
     },
     "execution_count": 15,
     "metadata": {},
     "output_type": "execute_result"
    }
   ],
   "source": [
    "df\n"
   ]
  },
  {
   "cell_type": "code",
   "execution_count": 16,
   "metadata": {},
   "outputs": [
    {
     "data": {
      "image/png": "[encoded data removed]",
      "text/plain": [
       "<Figure size 432x288 with 1 Axes>"
      ]
     },
     "metadata": {
      "needs_background": "light"
     },
     "output_type": "display_data"
    }
   ],
   "source": [
    "df.groupby(['class']).mean().unstack().plot(kind='bar')\n",
    "plt.xlabel(\"Class\")\n",
    "plt.ylabel(\"CPU usage\")\n",
    "plt.title(\"Average\")\n",
    "plt.legend([\"Botnet and Legit data\"])\n",
    "plt.show()"
   ]
  },
  {
   "cell_type": "markdown",
   "metadata": {},
   "source": [
    "#### Computing average memory when infected with  various botnet types for different  profiles and comparing with average without any infections"
   ]
  },
  {
   "cell_type": "code",
   "execution_count": 17,
   "metadata": {},
   "outputs": [],
   "source": [
    "overall_memory_usage=data_unique['mem'].mean()\n",
    "memory_usage=data_unique.groupby(['class','Profile','Attack_Type']).agg({'mem':['mean']})\n",
    "df1 = pd.DataFrame(memory_usage)"
   ]
  },
  {
   "cell_type": "code",
   "execution_count": 18,
   "metadata": {},
   "outputs": [
    {
     "data": {
      "text/plain": [
       "MultiIndex([('mem', 'mean')],\n",
       "           )"
      ]
     },
     "execution_count": 18,
     "metadata": {},
     "output_type": "execute_result"
    }
   ],
   "source": [
    "memory_usage.columns"
   ]
  },
  {
   "cell_type": "code",
   "execution_count": 19,
   "metadata": {},
   "outputs": [],
   "source": [
    "df1.columns = df1.columns.get_level_values(0)"
   ]
  },
  {
   "cell_type": "code",
   "execution_count": 20,
   "metadata": {},
   "outputs": [
    {
     "data": {
      "text/html": [
       "<div>\n",
       "<style scoped>\n",
       "    .dataframe tbody tr th:only-of-type {\n",
       "        vertical-align: middle;\n",
       "    }\n",
       "\n",
       "    .dataframe tbody tr th {\n",
       "        vertical-align: top;\n",
       "    }\n",
       "\n",
       "    .dataframe thead th {\n",
       "        text-align: right;\n",
       "    }\n",
       "</style>\n",
       "<table border=\"1\" class=\"dataframe\">\n",
       "  <thead>\n",
       "    <tr style=\"text-align: right;\">\n",
       "      <th></th>\n",
       "      <th></th>\n",
       "      <th></th>\n",
       "      <th>mem</th>\n",
       "    </tr>\n",
       "    <tr>\n",
       "      <th>class</th>\n",
       "      <th>Profile</th>\n",
       "      <th>Attack_Type</th>\n",
       "      <th></th>\n",
       "    </tr>\n",
       "  </thead>\n",
       "  <tbody>\n",
       "    <tr>\n",
       "      <th rowspan=\"8\" valign=\"top\">botnet</th>\n",
       "      <th rowspan=\"3\" valign=\"top\">MC</th>\n",
       "      <th>1</th>\n",
       "      <td>520991.844444</td>\n",
       "    </tr>\n",
       "    <tr>\n",
       "      <th>2</th>\n",
       "      <td>521062.980609</td>\n",
       "    </tr>\n",
       "    <tr>\n",
       "      <th>3</th>\n",
       "      <td>521103.900415</td>\n",
       "    </tr>\n",
       "    <tr>\n",
       "      <th rowspan=\"3\" valign=\"top\">SC</th>\n",
       "      <th>1</th>\n",
       "      <td>203688.141443</td>\n",
       "    </tr>\n",
       "    <tr>\n",
       "      <th>2</th>\n",
       "      <td>203710.944681</td>\n",
       "    </tr>\n",
       "    <tr>\n",
       "      <th>3</th>\n",
       "      <td>203688.141443</td>\n",
       "    </tr>\n",
       "    <tr>\n",
       "      <th rowspan=\"2\" valign=\"top\">ST</th>\n",
       "      <th>2</th>\n",
       "      <td>206902.962963</td>\n",
       "    </tr>\n",
       "    <tr>\n",
       "      <th>3</th>\n",
       "      <td>206845.459085</td>\n",
       "    </tr>\n",
       "    <tr>\n",
       "      <th rowspan=\"9\" valign=\"top\">legit</th>\n",
       "      <th rowspan=\"3\" valign=\"top\">MC</th>\n",
       "      <th>1</th>\n",
       "      <td>323586.489019</td>\n",
       "    </tr>\n",
       "    <tr>\n",
       "      <th>2</th>\n",
       "      <td>323586.489019</td>\n",
       "    </tr>\n",
       "    <tr>\n",
       "      <th>3</th>\n",
       "      <td>323586.489019</td>\n",
       "    </tr>\n",
       "    <tr>\n",
       "      <th rowspan=\"3\" valign=\"top\">SC</th>\n",
       "      <th>1</th>\n",
       "      <td>200172.940133</td>\n",
       "    </tr>\n",
       "    <tr>\n",
       "      <th>2</th>\n",
       "      <td>200172.940133</td>\n",
       "    </tr>\n",
       "    <tr>\n",
       "      <th>3</th>\n",
       "      <td>200172.940133</td>\n",
       "    </tr>\n",
       "    <tr>\n",
       "      <th rowspan=\"3\" valign=\"top\">ST</th>\n",
       "      <th>1</th>\n",
       "      <td>217688.324963</td>\n",
       "    </tr>\n",
       "    <tr>\n",
       "      <th>2</th>\n",
       "      <td>217688.324963</td>\n",
       "    </tr>\n",
       "    <tr>\n",
       "      <th>3</th>\n",
       "      <td>217688.324963</td>\n",
       "    </tr>\n",
       "  </tbody>\n",
       "</table>\n",
       "</div>"
      ],
      "text/plain": [
       "                                      mem\n",
       "class  Profile Attack_Type               \n",
       "botnet MC      1            520991.844444\n",
       "               2            521062.980609\n",
       "               3            521103.900415\n",
       "       SC      1            203688.141443\n",
       "               2            203710.944681\n",
       "               3            203688.141443\n",
       "       ST      2            206902.962963\n",
       "               3            206845.459085\n",
       "legit  MC      1            323586.489019\n",
       "               2            323586.489019\n",
       "               3            323586.489019\n",
       "       SC      1            200172.940133\n",
       "               2            200172.940133\n",
       "               3            200172.940133\n",
       "       ST      1            217688.324963\n",
       "               2            217688.324963\n",
       "               3            217688.324963"
      ]
     },
     "execution_count": 20,
     "metadata": {},
     "output_type": "execute_result"
    }
   ],
   "source": [
    "df1"
   ]
  },
  {
   "cell_type": "code",
   "execution_count": 21,
   "metadata": {},
   "outputs": [
    {
     "data": {
      "image/png": "[encoded data removed]",
      "text/plain": [
       "<Figure size 432x288 with 1 Axes>"
      ]
     },
     "metadata": {
      "needs_background": "light"
     },
     "output_type": "display_data"
    }
   ],
   "source": [
    "df1.groupby(['class']).mean().unstack().plot(kind='bar')\n",
    "plt.xlabel(\"Class\")\n",
    "plt.ylabel(\"Memory usage\")\n",
    "plt.title(\"Average\")\n",
    "plt.legend([\"Botnet and Legit data\"])\n",
    "plt.show()"
   ]
  },
  {
   "cell_type": "markdown",
   "metadata": {},
   "source": [
    "#### Computing average CPU temperature when infected with  various botnet types for different  profiles and comparing with average without any infections"
   ]
  },
  {
   "cell_type": "code",
   "execution_count": 22,
   "metadata": {},
   "outputs": [],
   "source": [
    "overall_temp=data_unique['temp'].mean()\n",
    "cpu_temp=data_unique.groupby(['class','Profile','Attack_Type']).agg({'temp':['mean']})\n",
    "df2 = pd.DataFrame(cpu_temp)"
   ]
  },
  {
   "cell_type": "code",
   "execution_count": 23,
   "metadata": {},
   "outputs": [
    {
     "data": {
      "text/plain": [
       "MultiIndex([('temp', 'mean')],\n",
       "           )"
      ]
     },
     "execution_count": 23,
     "metadata": {},
     "output_type": "execute_result"
    }
   ],
   "source": [
    "cpu_temp.columns"
   ]
  },
  {
   "cell_type": "code",
   "execution_count": 24,
   "metadata": {},
   "outputs": [],
   "source": [
    "df2.columns = df2.columns.get_level_values(0)"
   ]
  },
  {
   "cell_type": "code",
   "execution_count": 25,
   "metadata": {},
   "outputs": [],
   "source": [
    "z=df2"
   ]
  },
  {
   "cell_type": "code",
   "execution_count": 26,
   "metadata": {},
   "outputs": [
    {
     "data": {
      "text/html": [
       "<div>\n",
       "<style scoped>\n",
       "    .dataframe tbody tr th:only-of-type {\n",
       "        vertical-align: middle;\n",
       "    }\n",
       "\n",
       "    .dataframe tbody tr th {\n",
       "        vertical-align: top;\n",
       "    }\n",
       "\n",
       "    .dataframe thead th {\n",
       "        text-align: right;\n",
       "    }\n",
       "</style>\n",
       "<table border=\"1\" class=\"dataframe\">\n",
       "  <thead>\n",
       "    <tr style=\"text-align: right;\">\n",
       "      <th></th>\n",
       "      <th></th>\n",
       "      <th></th>\n",
       "      <th>temp</th>\n",
       "    </tr>\n",
       "    <tr>\n",
       "      <th>class</th>\n",
       "      <th>Profile</th>\n",
       "      <th>Attack_Type</th>\n",
       "      <th></th>\n",
       "    </tr>\n",
       "  </thead>\n",
       "  <tbody>\n",
       "    <tr>\n",
       "      <th rowspan=\"8\" valign=\"top\">botnet</th>\n",
       "      <th rowspan=\"3\" valign=\"top\">MC</th>\n",
       "      <th>1</th>\n",
       "      <td>63.648889</td>\n",
       "    </tr>\n",
       "    <tr>\n",
       "      <th>2</th>\n",
       "      <td>63.641413</td>\n",
       "    </tr>\n",
       "    <tr>\n",
       "      <th>3</th>\n",
       "      <td>63.636515</td>\n",
       "    </tr>\n",
       "    <tr>\n",
       "      <th rowspan=\"3\" valign=\"top\">SC</th>\n",
       "      <th>1</th>\n",
       "      <td>52.947949</td>\n",
       "    </tr>\n",
       "    <tr>\n",
       "      <th>2</th>\n",
       "      <td>52.946525</td>\n",
       "    </tr>\n",
       "    <tr>\n",
       "      <th>3</th>\n",
       "      <td>52.947949</td>\n",
       "    </tr>\n",
       "    <tr>\n",
       "      <th rowspan=\"2\" valign=\"top\">ST</th>\n",
       "      <th>2</th>\n",
       "      <td>54.264472</td>\n",
       "    </tr>\n",
       "    <tr>\n",
       "      <th>3</th>\n",
       "      <td>54.280583</td>\n",
       "    </tr>\n",
       "    <tr>\n",
       "      <th rowspan=\"9\" valign=\"top\">legit</th>\n",
       "      <th rowspan=\"3\" valign=\"top\">MC</th>\n",
       "      <th>1</th>\n",
       "      <td>65.623280</td>\n",
       "    </tr>\n",
       "    <tr>\n",
       "      <th>2</th>\n",
       "      <td>65.623280</td>\n",
       "    </tr>\n",
       "    <tr>\n",
       "      <th>3</th>\n",
       "      <td>65.623280</td>\n",
       "    </tr>\n",
       "    <tr>\n",
       "      <th rowspan=\"3\" valign=\"top\">SC</th>\n",
       "      <th>1</th>\n",
       "      <td>50.941685</td>\n",
       "    </tr>\n",
       "    <tr>\n",
       "      <th>2</th>\n",
       "      <td>50.941685</td>\n",
       "    </tr>\n",
       "    <tr>\n",
       "      <th>3</th>\n",
       "      <td>50.941685</td>\n",
       "    </tr>\n",
       "    <tr>\n",
       "      <th rowspan=\"3\" valign=\"top\">ST</th>\n",
       "      <th>1</th>\n",
       "      <td>52.988774</td>\n",
       "    </tr>\n",
       "    <tr>\n",
       "      <th>2</th>\n",
       "      <td>52.988774</td>\n",
       "    </tr>\n",
       "    <tr>\n",
       "      <th>3</th>\n",
       "      <td>52.988774</td>\n",
       "    </tr>\n",
       "  </tbody>\n",
       "</table>\n",
       "</div>"
      ],
      "text/plain": [
       "                                 temp\n",
       "class  Profile Attack_Type           \n",
       "botnet MC      1            63.648889\n",
       "               2            63.641413\n",
       "               3            63.636515\n",
       "       SC      1            52.947949\n",
       "               2            52.946525\n",
       "               3            52.947949\n",
       "       ST      2            54.264472\n",
       "               3            54.280583\n",
       "legit  MC      1            65.623280\n",
       "               2            65.623280\n",
       "               3            65.623280\n",
       "       SC      1            50.941685\n",
       "               2            50.941685\n",
       "               3            50.941685\n",
       "       ST      1            52.988774\n",
       "               2            52.988774\n",
       "               3            52.988774"
      ]
     },
     "execution_count": 26,
     "metadata": {},
     "output_type": "execute_result"
    }
   ],
   "source": [
    "z"
   ]
  },
  {
   "cell_type": "code",
   "execution_count": 27,
   "metadata": {},
   "outputs": [
    {
     "data": {
      "image/png": "[encoded data removed]",
      "text/plain": [
       "<Figure size 432x288 with 1 Axes>"
      ]
     },
     "metadata": {
      "needs_background": "light"
     },
     "output_type": "display_data"
    }
   ],
   "source": [
    "df2.groupby(['class']).mean().unstack().plot(kind='bar')\n",
    "plt.xlabel(\"Class\")\n",
    "plt.ylabel(\"Temp\")\n",
    "plt.title(\"Average\")\n",
    "plt.legend([\"Botnet and Legit data\"])\n",
    "plt.show()"
   ]
  },
  {
   "cell_type": "code",
   "execution_count": 28,
   "metadata": {},
   "outputs": [
    {
     "data": {
      "image/png": "[encoded data removed]",
      "text/plain": [
       "<Figure size 432x288 with 1 Axes>"
      ]
     },
     "metadata": {
      "needs_background": "light"
     },
     "output_type": "display_data"
    }
   ],
   "source": [
    "nof_tasks_total=data_unique['tasks'].mean()\n",
    "nof_tasks=data_unique.groupby(['class','Profile','Attack_Type']).agg({'tasks':['mean']})\n",
    "df3 = pd.DataFrame(nof_tasks)\n",
    "df3.columns\n",
    "df3.columns = df3.columns.get_level_values(0)\n",
    "df3.groupby(['class']).mean().unstack().plot(kind='bar')\n",
    "plt.xlabel(\"Class\")\n",
    "plt.ylabel(\"Tasks\")\n",
    "plt.title(\"Average\")\n",
    "plt.legend([\"Botnet and Legit data\"])\n",
    "plt.show()"
   ]
  },
  {
   "cell_type": "markdown",
   "metadata": {},
   "source": [
    "#### Overall Analysis\n",
    "For Type 1 infections, which consist of the combinations Hajime/MC-profile the averages computed for the infected period were higher than those of the period without infections It shows that Hajime’s actions caused a variation in multiple features, which could facilitate its detection based on host data analysis For the infection based on Aidra, the device presented a lower memory usage when compared to the period without infections. The decrease in memory usage is a consequence of the way Aidra works since it stops other processes running on the device to gather more resources for itself. The behaviour of Bashlite was similar to Aidra. It is important to observe that each botnet can cause different changes in the features behaviour. Intuitively, the presence of malware on a device was suppose to result in an increase in all observed features. However, it is possible to see that Aidra and Bashlite caused a decrease in memory usage, contradicting this intuition.Type 3 infections, the Raspberry Pi was compromised with Mirai, Doflo, Tsunami, and Wroba malware simultaneously. This was done to observe the behaviour of botnets when competing for resources. As expected, all profiles showed higher averages for most features, due to the high amount of malware processes running on the device."
   ]
  },
  {
   "cell_type": "code",
   "execution_count": 29,
   "metadata": {},
   "outputs": [],
   "source": [
    "X=data_unique.iloc[:, [1,2]].values"
   ]
  },
  {
   "cell_type": "code",
   "execution_count": 30,
   "metadata": {},
   "outputs": [
    {
     "name": "stdout",
     "output_type": "stream",
     "text": [
      "[0 0 0 ... 0 0 0]\n",
      "[[9.61908046e+00 2.22668103e+05]\n",
      " [1.65074267e+01 5.05945949e+05]\n",
      " [1.87659864e+01 4.34746354e+05]\n",
      " [8.19275862e+00 2.00802185e+05]\n",
      " [1.82289216e+01 5.99029510e+05]\n",
      " [1.71052632e+01 3.41908842e+05]]\n"
     ]
    }
   ],
   "source": [
    "kmeans = KMeans(n_clusters=6)\n",
    "y_kmeans = kmeans.fit_predict(X)\n",
    "print(y_kmeans)\n",
    "print(kmeans.cluster_centers_)"
   ]
  },
  {
   "cell_type": "code",
   "execution_count": 31,
   "metadata": {},
   "outputs": [
    {
     "data": {
      "image/png": "[encoded data removed]",
      "text/plain": [
       "<Figure size 432x288 with 1 Axes>"
      ]
     },
     "metadata": {
      "needs_background": "light"
     },
     "output_type": "display_data"
    }
   ],
   "source": [
    "Error =[]\n",
    "for i in range(1, 5):\n",
    "    kmeans = KMeans(n_clusters = i)\n",
    "    kmeans.fit(X)\n",
    "    Error.append(kmeans.inertia_)\n",
    "\n",
    "plt.plot(range(1, 5), Error, marker='+')\n",
    "plt.title('Elbow method')\n",
    "plt.xlabel('No of clusters')\n",
    "plt.ylabel('Error')\n",
    "plt.show()"
   ]
  },
  {
   "cell_type": "code",
   "execution_count": 32,
   "metadata": {},
   "outputs": [
    {
     "data": {
      "image/png": "[encoded data removed]",
      "text/plain": [
       "<Figure size 432x288 with 1 Axes>"
      ]
     },
     "metadata": {
      "needs_background": "light"
     },
     "output_type": "display_data"
    }
   ],
   "source": [
    "kmeans = KMeans(n_clusters=2)\n",
    "y_kmeans = kmeans.fit_predict(X)\n",
    "\n",
    "plt.scatter(X[:, 0], X[:, 1], c=y_kmeans, cmap='rainbow')\n",
    "plt.show()"
   ]
  },
  {
   "cell_type": "markdown",
   "metadata": {},
   "source": [
    "# IP flow data"
   ]
  },
  {
   "cell_type": "markdown",
   "metadata": {},
   "source": [
    "Read data"
   ]
  },
  {
   "cell_type": "code",
   "execution_count": 609,
   "metadata": {},
   "outputs": [],
   "source": [
    "IP_data=pd.read_csv('C:/SIoT/Dataset/MC_I3n.csv')\n"
   ]
  },
  {
   "cell_type": "raw",
   "metadata": {},
   "source": [
    "%Label    -1: attack; 1: normal\n",
    "%ts       Start Time - first seen\n",
    "%te       End Time - last seen\n",
    "%td       Duration\n",
    "%sa       Source Address\n",
    "%da       Destination Address\n",
    "%sp       Source Port\n",
    "%dp       Destination Port\n",
    "%pr       Protocol\n",
    "%flg      TCP Flags\n",
    "%fwd      Forwarding Status\n",
    "%stos     Src Tos\n",
    "%ipkt     Input Packets\n",
    "%ibyt     Input Bytes\n",
    "%opkt     Output Packets\n",
    "%obyt     Output Bytes\n",
    "%in       Input Interface num\n",
    "%out      Output Interface num\n",
    "%sas      Source AS\n",
    "%das      Destination AS\n",
    "%smk      Src mask\n",
    "%dmk      Dst mask\n",
    "%dtos     Dst Tos\n",
    "%dir      Direction: ingress, egress\n",
    "%nh       Next-hop IP Address\n",
    "%nhb      BGP Next-hop IP Address\n",
    "%svln     Src vlan label\n",
    "%dvln     Dst vlan label\n",
    "%idmc     Input Dst Mac Addr\n",
    "%osmc     Output Src Mac Addr\n",
    "%mpls1    MPLS label 1\n",
    "%mpls2    MPLS label 2\n",
    "%mpls3    MPLS label 3\n",
    "%mpls4    MPLS label 4\n",
    "%mpls5    MPLS label 5\n",
    "%mpls6    MPLS label 6\n",
    "%mpls7    MPLS label 7\n",
    "%mpls8    MPLS label 8\n",
    "%mpls9    MPLS label 9\n",
    "%mpls10   MPLS label 10\n",
    "%cl       Client latency\n",
    "%sl       Server latency\n",
    "%al       Application latency\n",
    "%ra       Router IP Address\n",
    "%eng      Engine Type/ID\n",
    "%exid     Exit number\n",
    "%tr       Time the flow was received by the collector"
   ]
  },
  {
   "cell_type": "raw",
   "metadata": {},
   "source": [
    "IP_data.shape"
   ]
  },
  {
   "cell_type": "code",
   "execution_count": 610,
   "metadata": {},
   "outputs": [
    {
     "data": {
      "text/plain": [
       "ts        0\n",
       "te        0\n",
       "td        0\n",
       "sa        0\n",
       "da        0\n",
       "sp        0\n",
       "dp        0\n",
       "pr        0\n",
       "flg       0\n",
       "fwd       0\n",
       "stos      0\n",
       "ipkt      0\n",
       "ibyt      0\n",
       "opkt      0\n",
       "obyt      0\n",
       "in        0\n",
       "out       0\n",
       "sas       0\n",
       "das       0\n",
       "smk       0\n",
       "dmk       0\n",
       "dtos      0\n",
       "dir       0\n",
       "nh        0\n",
       "nhb       0\n",
       "svln      0\n",
       "dvln      0\n",
       "ismc      0\n",
       "odmc      0\n",
       "idmc      0\n",
       "osmc      0\n",
       "mpls1     0\n",
       "mpls2     0\n",
       "mpls3     0\n",
       "mpls4     0\n",
       "mpls5     0\n",
       "mpls6     0\n",
       "mpls7     0\n",
       "mpls8     0\n",
       "mpls9     0\n",
       "mpls10    0\n",
       "cl        0\n",
       "sl        0\n",
       "al        0\n",
       "ra        0\n",
       "eng       0\n",
       "exid      0\n",
       "tr        0\n",
       "Label     0\n",
       "dtype: int64"
      ]
     },
     "execution_count": 610,
     "metadata": {},
     "output_type": "execute_result"
    }
   ],
   "source": [
    "IP_data.isnull().sum()\n"
   ]
  },
  {
   "cell_type": "markdown",
   "metadata": {},
   "source": [
    "# No Null values , finding duplicate values "
   ]
  },
  {
   "cell_type": "code",
   "execution_count": 611,
   "metadata": {},
   "outputs": [
    {
     "data": {
      "text/plain": [
       "907"
      ]
     },
     "execution_count": 611,
     "metadata": {},
     "output_type": "execute_result"
    }
   ],
   "source": [
    "dup=IP_data.duplicated()\n",
    "sum(dup)"
   ]
  },
  {
   "cell_type": "markdown",
   "metadata": {},
   "source": [
    "# Dropping the duplicate values "
   ]
  },
  {
   "cell_type": "code",
   "execution_count": 612,
   "metadata": {},
   "outputs": [
    {
     "data": {
      "text/plain": [
       "(478617, 49)"
      ]
     },
     "execution_count": 612,
     "metadata": {},
     "output_type": "execute_result"
    }
   ],
   "source": [
    "IP_data=IP_data.drop_duplicates()\n",
    "IP_data.shape"
   ]
  },
  {
   "cell_type": "markdown",
   "metadata": {},
   "source": [
    "# Dropping the coulmns with zero values "
   ]
  },
  {
   "cell_type": "code",
   "execution_count": 613,
   "metadata": {},
   "outputs": [],
   "source": [
    "IP_data=IP_data.replace(0,np.nan).dropna(axis=1,how=\"all\")"
   ]
  },
  {
   "cell_type": "code",
   "execution_count": 614,
   "metadata": {},
   "outputs": [
    {
     "name": "stdout",
     "output_type": "stream",
     "text": [
      "<class 'pandas.core.frame.DataFrame'>\n",
      "Int64Index: 478617 entries, 0 to 479523\n",
      "Data columns (total 32 columns):\n",
      " #   Column  Non-Null Count   Dtype  \n",
      "---  ------  --------------   -----  \n",
      " 0   ts      478617 non-null  object \n",
      " 1   te      478617 non-null  object \n",
      " 2   td      118008 non-null  float64\n",
      " 3   sa      478617 non-null  object \n",
      " 4   da      478617 non-null  object \n",
      " 5   sp      467456 non-null  float64\n",
      " 6   dp      478472 non-null  float64\n",
      " 7   pr      478617 non-null  object \n",
      " 8   flg     478617 non-null  object \n",
      " 9   ipkt    478617 non-null  int64  \n",
      " 10  ibyt    478617 non-null  int64  \n",
      " 11  nh      478617 non-null  object \n",
      " 12  nhb     478617 non-null  object \n",
      " 13  ismc    478617 non-null  object \n",
      " 14  odmc    478617 non-null  object \n",
      " 15  idmc    478617 non-null  object \n",
      " 16  osmc    478617 non-null  object \n",
      " 17  mpls1   478617 non-null  object \n",
      " 18  mpls2   478617 non-null  object \n",
      " 19  mpls3   478617 non-null  object \n",
      " 20  mpls4   478617 non-null  object \n",
      " 21  mpls5   478617 non-null  object \n",
      " 22  mpls6   478617 non-null  object \n",
      " 23  mpls7   478617 non-null  object \n",
      " 24  mpls8   478617 non-null  object \n",
      " 25  mpls9   478617 non-null  object \n",
      " 26  mpls10  478617 non-null  object \n",
      " 27  ra      478617 non-null  object \n",
      " 28  eng     478617 non-null  object \n",
      " 29  exid    478617 non-null  int64  \n",
      " 30  tr      478617 non-null  object \n",
      " 31  Label   478617 non-null  int64  \n",
      "dtypes: float64(3), int64(4), object(25)\n",
      "memory usage: 120.5+ MB\n",
      "None\n"
     ]
    }
   ],
   "source": [
    "print(IP_data.info())"
   ]
  },
  {
   "cell_type": "code",
   "execution_count": 615,
   "metadata": {},
   "outputs": [
    {
     "data": {
      "text/html": [
       "<div>\n",
       "<style scoped>\n",
       "    .dataframe tbody tr th:only-of-type {\n",
       "        vertical-align: middle;\n",
       "    }\n",
       "\n",
       "    .dataframe tbody tr th {\n",
       "        vertical-align: top;\n",
       "    }\n",
       "\n",
       "    .dataframe thead th {\n",
       "        text-align: right;\n",
       "    }\n",
       "</style>\n",
       "<table border=\"1\" class=\"dataframe\">\n",
       "  <thead>\n",
       "    <tr style=\"text-align: right;\">\n",
       "      <th></th>\n",
       "      <th>ts</th>\n",
       "      <th>te</th>\n",
       "      <th>td</th>\n",
       "      <th>sa</th>\n",
       "      <th>da</th>\n",
       "      <th>sp</th>\n",
       "      <th>dp</th>\n",
       "      <th>pr</th>\n",
       "      <th>flg</th>\n",
       "      <th>ipkt</th>\n",
       "      <th>...</th>\n",
       "      <th>mpls6</th>\n",
       "      <th>mpls7</th>\n",
       "      <th>mpls8</th>\n",
       "      <th>mpls9</th>\n",
       "      <th>mpls10</th>\n",
       "      <th>ra</th>\n",
       "      <th>eng</th>\n",
       "      <th>exid</th>\n",
       "      <th>tr</th>\n",
       "      <th>Label</th>\n",
       "    </tr>\n",
       "  </thead>\n",
       "  <tbody>\n",
       "    <tr>\n",
       "      <th>0</th>\n",
       "      <td>12-11-2018 04:25</td>\n",
       "      <td>12-11-2018 04:27</td>\n",
       "      <td>117.65</td>\n",
       "      <td>124.85.49.80</td>\n",
       "      <td>192.168.1.109</td>\n",
       "      <td>443.0</td>\n",
       "      <td>46286.0</td>\n",
       "      <td>TCP</td>\n",
       "      <td>.AP...</td>\n",
       "      <td>19938</td>\n",
       "      <td>...</td>\n",
       "      <td>0-0-0</td>\n",
       "      <td>0-0-0</td>\n",
       "      <td>0-0-0</td>\n",
       "      <td>0-0-0</td>\n",
       "      <td>0-0-0</td>\n",
       "      <td>0.0.0.0</td>\n",
       "      <td>0/0</td>\n",
       "      <td>1</td>\n",
       "      <td>00:00.0</td>\n",
       "      <td>1</td>\n",
       "    </tr>\n",
       "    <tr>\n",
       "      <th>1</th>\n",
       "      <td>12-11-2018 04:25</td>\n",
       "      <td>12-11-2018 04:27</td>\n",
       "      <td>117.65</td>\n",
       "      <td>192.168.1.109</td>\n",
       "      <td>124.85.49.80</td>\n",
       "      <td>46286.0</td>\n",
       "      <td>443.0</td>\n",
       "      <td>TCP</td>\n",
       "      <td>.AP..F</td>\n",
       "      <td>9944</td>\n",
       "      <td>...</td>\n",
       "      <td>0-0-0</td>\n",
       "      <td>0-0-0</td>\n",
       "      <td>0-0-0</td>\n",
       "      <td>0-0-0</td>\n",
       "      <td>0-0-0</td>\n",
       "      <td>0.0.0.0</td>\n",
       "      <td>0/0</td>\n",
       "      <td>1</td>\n",
       "      <td>00:00.0</td>\n",
       "      <td>1</td>\n",
       "    </tr>\n",
       "    <tr>\n",
       "      <th>2</th>\n",
       "      <td>12-11-2018 04:25</td>\n",
       "      <td>12-11-2018 04:29</td>\n",
       "      <td>255253.00</td>\n",
       "      <td>100.77.1.153</td>\n",
       "      <td>192.168.1.109</td>\n",
       "      <td>443.0</td>\n",
       "      <td>54308.0</td>\n",
       "      <td>TCP</td>\n",
       "      <td>.AP..F</td>\n",
       "      <td>8</td>\n",
       "      <td>...</td>\n",
       "      <td>0-0-0</td>\n",
       "      <td>0-0-0</td>\n",
       "      <td>0-0-0</td>\n",
       "      <td>0-0-0</td>\n",
       "      <td>0-0-0</td>\n",
       "      <td>0.0.0.0</td>\n",
       "      <td>0/0</td>\n",
       "      <td>1</td>\n",
       "      <td>00:00.0</td>\n",
       "      <td>1</td>\n",
       "    </tr>\n",
       "    <tr>\n",
       "      <th>3</th>\n",
       "      <td>12-11-2018 04:25</td>\n",
       "      <td>12-11-2018 04:29</td>\n",
       "      <td>255253.00</td>\n",
       "      <td>192.168.1.109</td>\n",
       "      <td>100.77.1.153</td>\n",
       "      <td>54308.0</td>\n",
       "      <td>443.0</td>\n",
       "      <td>TCP</td>\n",
       "      <td>.A.R.F</td>\n",
       "      <td>9</td>\n",
       "      <td>...</td>\n",
       "      <td>0-0-0</td>\n",
       "      <td>0-0-0</td>\n",
       "      <td>0-0-0</td>\n",
       "      <td>0-0-0</td>\n",
       "      <td>0-0-0</td>\n",
       "      <td>0.0.0.0</td>\n",
       "      <td>0/0</td>\n",
       "      <td>1</td>\n",
       "      <td>00:00.0</td>\n",
       "      <td>1</td>\n",
       "    </tr>\n",
       "    <tr>\n",
       "      <th>4</th>\n",
       "      <td>12-11-2018 04:25</td>\n",
       "      <td>12-11-2018 04:25</td>\n",
       "      <td>1538.00</td>\n",
       "      <td>148.49.31.216</td>\n",
       "      <td>192.168.1.109</td>\n",
       "      <td>443.0</td>\n",
       "      <td>43240.0</td>\n",
       "      <td>TCP</td>\n",
       "      <td>.A...F</td>\n",
       "      <td>2</td>\n",
       "      <td>...</td>\n",
       "      <td>0-0-0</td>\n",
       "      <td>0-0-0</td>\n",
       "      <td>0-0-0</td>\n",
       "      <td>0-0-0</td>\n",
       "      <td>0-0-0</td>\n",
       "      <td>0.0.0.0</td>\n",
       "      <td>0/0</td>\n",
       "      <td>1</td>\n",
       "      <td>00:00.0</td>\n",
       "      <td>1</td>\n",
       "    </tr>\n",
       "  </tbody>\n",
       "</table>\n",
       "<p>5 rows × 32 columns</p>\n",
       "</div>"
      ],
      "text/plain": [
       "                 ts                te         td             sa  \\\n",
       "0  12-11-2018 04:25  12-11-2018 04:27     117.65   124.85.49.80   \n",
       "1  12-11-2018 04:25  12-11-2018 04:27     117.65  192.168.1.109   \n",
       "2  12-11-2018 04:25  12-11-2018 04:29  255253.00   100.77.1.153   \n",
       "3  12-11-2018 04:25  12-11-2018 04:29  255253.00  192.168.1.109   \n",
       "4  12-11-2018 04:25  12-11-2018 04:25    1538.00  148.49.31.216   \n",
       "\n",
       "              da       sp       dp   pr     flg   ipkt  ...  mpls6  mpls7  \\\n",
       "0  192.168.1.109    443.0  46286.0  TCP  .AP...  19938  ...  0-0-0  0-0-0   \n",
       "1   124.85.49.80  46286.0    443.0  TCP  .AP..F   9944  ...  0-0-0  0-0-0   \n",
       "2  192.168.1.109    443.0  54308.0  TCP  .AP..F      8  ...  0-0-0  0-0-0   \n",
       "3   100.77.1.153  54308.0    443.0  TCP  .A.R.F      9  ...  0-0-0  0-0-0   \n",
       "4  192.168.1.109    443.0  43240.0  TCP  .A...F      2  ...  0-0-0  0-0-0   \n",
       "\n",
       "   mpls8  mpls9 mpls10       ra  eng exid       tr Label  \n",
       "0  0-0-0  0-0-0  0-0-0  0.0.0.0  0/0    1  00:00.0     1  \n",
       "1  0-0-0  0-0-0  0-0-0  0.0.0.0  0/0    1  00:00.0     1  \n",
       "2  0-0-0  0-0-0  0-0-0  0.0.0.0  0/0    1  00:00.0     1  \n",
       "3  0-0-0  0-0-0  0-0-0  0.0.0.0  0/0    1  00:00.0     1  \n",
       "4  0-0-0  0-0-0  0-0-0  0.0.0.0  0/0    1  00:00.0     1  \n",
       "\n",
       "[5 rows x 32 columns]"
      ]
     },
     "execution_count": 615,
     "metadata": {},
     "output_type": "execute_result"
    }
   ],
   "source": [
    "IP_data.head()\n"
   ]
  },
  {
   "cell_type": "markdown",
   "metadata": {},
   "source": [
    "# Dropping the features that do not contribute to the analysis"
   ]
  },
  {
   "cell_type": "code",
   "execution_count": 616,
   "metadata": {},
   "outputs": [],
   "source": [
    "IP_data=IP_data.drop(['ts', 'te','sa','da','flg','ra','exid'], axis = 1)\n"
   ]
  },
  {
   "cell_type": "code",
   "execution_count": 617,
   "metadata": {},
   "outputs": [
    {
     "name": "stdout",
     "output_type": "stream",
     "text": [
      "<class 'pandas.core.frame.DataFrame'>\n",
      "Int64Index: 478617 entries, 0 to 479523\n",
      "Data columns (total 25 columns):\n",
      " #   Column  Non-Null Count   Dtype  \n",
      "---  ------  --------------   -----  \n",
      " 0   td      118008 non-null  float64\n",
      " 1   sp      467456 non-null  float64\n",
      " 2   dp      478472 non-null  float64\n",
      " 3   pr      478617 non-null  object \n",
      " 4   ipkt    478617 non-null  int64  \n",
      " 5   ibyt    478617 non-null  int64  \n",
      " 6   nh      478617 non-null  object \n",
      " 7   nhb     478617 non-null  object \n",
      " 8   ismc    478617 non-null  object \n",
      " 9   odmc    478617 non-null  object \n",
      " 10  idmc    478617 non-null  object \n",
      " 11  osmc    478617 non-null  object \n",
      " 12  mpls1   478617 non-null  object \n",
      " 13  mpls2   478617 non-null  object \n",
      " 14  mpls3   478617 non-null  object \n",
      " 15  mpls4   478617 non-null  object \n",
      " 16  mpls5   478617 non-null  object \n",
      " 17  mpls6   478617 non-null  object \n",
      " 18  mpls7   478617 non-null  object \n",
      " 19  mpls8   478617 non-null  object \n",
      " 20  mpls9   478617 non-null  object \n",
      " 21  mpls10  478617 non-null  object \n",
      " 22  eng     478617 non-null  object \n",
      " 23  tr      478617 non-null  object \n",
      " 24  Label   478617 non-null  int64  \n",
      "dtypes: float64(3), int64(3), object(19)\n",
      "memory usage: 94.9+ MB\n",
      "None\n"
     ]
    }
   ],
   "source": [
    "print(IP_data.info())"
   ]
  },
  {
   "cell_type": "markdown",
   "metadata": {},
   "source": [
    "# # Data analysis with time duration and packet size"
   ]
  },
  {
   "cell_type": "code",
   "execution_count": 620,
   "metadata": {},
   "outputs": [
    {
     "data": {
      "text/plain": [
       "<bound method DataFrame.transpose of              td                                                           \\\n",
       "          count          mean            std   min  25%     50%      75%   \n",
       "Label                                                                      \n",
       "-1     116577.0   3144.697607   14521.790863  0.01  7.2  423.00   7181.0   \n",
       " 1       1431.0  42784.713215  172917.505196  0.01  5.0  100.38  25674.0   \n",
       "\n",
       "                      ibyt                                                  \\\n",
       "             max     count           mean           std   min   25%    50%   \n",
       "Label                                                                        \n",
       "-1     3084452.0  477064.0     140.215101  1.131605e+04  20.0  40.0   40.0   \n",
       " 1     3517244.0    1553.0  819286.326465  6.204508e+06  32.0  83.0  514.0   \n",
       "\n",
       "                            \n",
       "          75%          max  \n",
       "Label                       \n",
       "-1       40.0    7802917.0  \n",
       " 1     4773.0  141952769.0  >"
      ]
     },
     "execution_count": 620,
     "metadata": {},
     "output_type": "execute_result"
    }
   ],
   "source": [
    "IP_data.groupby(['Label'])[['td','ibyt']].describe().transpose"
   ]
  },
  {
   "cell_type": "markdown",
   "metadata": {},
   "source": [
    "# Analysis for protocol  parameter: "
   ]
  },
  {
   "cell_type": "markdown",
   "metadata": {},
   "source": [
    "Distributions of protocol highly vary for normal and botnet IoT traffc. In normal IoT traffic, protocol distributions are much more closely related to UDP and TCP.There is huge difference when IoT devices are victimized by the botnet"
   ]
  },
  {
   "cell_type": "code",
   "execution_count": 44,
   "metadata": {},
   "outputs": [
    {
     "data": {
      "image/png": "[encoded data removed]",
      "text/plain": [
       "<Figure size 432x288 with 1 Axes>"
      ]
     },
     "metadata": {},
     "output_type": "display_data"
    },
    {
     "data": {
      "image/png": "[encoded data removed]",
      "text/plain": [
       "<Figure size 432x288 with 1 Axes>"
      ]
     },
     "metadata": {},
     "output_type": "display_data"
    }
   ],
   "source": [
    "count_series = IP_data.groupby(['Label', 'pr']).size().reset_index(name = \"Count\")\n",
    "\n",
    "f1= pd.DataFrame(count_series)\n",
    "#f1['Label'] = f1['Label'].astype(str)\n",
    "f1.set_index(\"pr\",inplace=True)\n",
    "f1[f1.Label==1].plot.pie(y=\"Count\",title=\"Normal\",autopct='%1.2f%%')\n",
    "plt.legend(loc=\"upper right\")\n",
    "plt.show()\n",
    "f1[f1.Label==-1].plot.pie(y=\"Count\",title=\"Attack\",autopct='%1.2f%%')\n",
    "plt.legend(loc=\"upper right\")\n",
    "plt.show()"
   ]
  },
  {
   "cell_type": "code",
   "execution_count": 45,
   "metadata": {},
   "outputs": [
    {
     "name": "stdout",
     "output_type": "stream",
     "text": [
      "<class 'pandas.core.frame.DataFrame'>\n",
      "Int64Index: 478629 entries, 0 to 479523\n",
      "Data columns (total 6 columns):\n",
      " #   Column  Non-Null Count   Dtype  \n",
      "---  ------  --------------   -----  \n",
      " 0   td      118008 non-null  float64\n",
      " 1   sp      467456 non-null  float64\n",
      " 2   dp      478484 non-null  float64\n",
      " 3   ipkt    478629 non-null  float64\n",
      " 4   ibyt    478629 non-null  float64\n",
      " 5   Label   478629 non-null  int64  \n",
      "dtypes: float64(5), int64(1)\n",
      "memory usage: 25.6 MB\n",
      "None\n"
     ]
    }
   ],
   "source": [
    "data_encoded = IP_data.select_dtypes(exclude=['object'])\n",
    "print(data_encoded.info())"
   ]
  },
  {
   "cell_type": "markdown",
   "metadata": {},
   "source": [
    "# Analysis of Time duration versus class  (Normal and Attack data)"
   ]
  },
  {
   "cell_type": "code",
   "execution_count": 46,
   "metadata": {},
   "outputs": [
    {
     "name": "stderr",
     "output_type": "stream",
     "text": [
      "C:\\Users\\Sheetal\\anaconda3\\lib\\site-packages\\seaborn\\_decorators.py:36: FutureWarning: Pass the following variables as keyword args: x, y, data. From version 0.12, the only valid positional argument will be `data`, and passing other arguments without an explicit keyword will result in an error or misinterpretation.\n",
      "  warnings.warn(\n"
     ]
    },
    {
     "data": {
      "image/png": "[encoded data removed]",
      "text/plain": [
       "<Figure size 720x360 with 1 Axes>"
      ]
     },
     "metadata": {
      "needs_background": "light"
     },
     "output_type": "display_data"
    }
   ],
   "source": [
    "import seaborn as sns\n",
    "g=sns.lmplot('td', 'Label', data_encoded, hue='Label', markers=[\"o\", \"x\"],fit_reg=False,palette=['red','green'])\n",
    "plt.ylim([-2, 2])\n",
    "fig = plt.gcf()\n",
    "fig.set_size_inches(10, 5)\n",
    "new_title = 'Class'\n",
    "g._legend.set_title(new_title)\n",
    "# replace labels\n",
    "new_labels = ['Attack', 'Normal']\n",
    "for t, l in zip(g._legend.texts, new_labels): t.set_text(l)\n",
    "font1 = {'family':'serif','color':'darkred','size':15}\n",
    "plt.xlabel(\"Time\",fontdict = font1)\n",
    "plt.ylabel(\"Class\",fontdict = font1)\n",
    "plt.show()\n",
    "\n"
   ]
  },
  {
   "cell_type": "markdown",
   "metadata": {},
   "source": [
    "Inference: Normal IoT traffic has certain time-limit limitations.IoT gadgets send packets at regular time intervals while in the attack (e.g. botnet), and IoT devices send packets frequently around zero nanoseconds so the most extreme number of requests can be sent inside a timeframe.In correlation, normal tra±c periods are a lot higher than attack IoT\n",
    "traffic, and the majority of the attack has happened inside zero nanoseconds .Time duration  can be a  feature for separating the normal and botnet IoT traffic"
   ]
  },
  {
   "cell_type": "markdown",
   "metadata": {},
   "source": [
    "# Analysis of packet size versus class (Normal and Attack data)"
   ]
  },
  {
   "cell_type": "code",
   "execution_count": 47,
   "metadata": {},
   "outputs": [
    {
     "name": "stderr",
     "output_type": "stream",
     "text": [
      "C:\\Users\\Sheetal\\anaconda3\\lib\\site-packages\\seaborn\\_decorators.py:36: FutureWarning: Pass the following variables as keyword args: x, y, data. From version 0.12, the only valid positional argument will be `data`, and passing other arguments without an explicit keyword will result in an error or misinterpretation.\n",
      "  warnings.warn(\n"
     ]
    },
    {
     "data": {
      "image/png": "[encoded data removed]",
      "text/plain": [
       "<Figure size 720x360 with 1 Axes>"
      ]
     },
     "metadata": {
      "needs_background": "light"
     },
     "output_type": "display_data"
    }
   ],
   "source": [
    "g=sns.lmplot('ibyt', 'Label', data_encoded, hue='Label', markers=[\"o\", \"x\"],fit_reg=False,palette=['red','green'])\n",
    "plt.ylim([-2, 2])\n",
    "fig = plt.gcf()\n",
    "fig.set_size_inches(10, 5)\n",
    "new_title = 'Class'\n",
    "g._legend.set_title(new_title)\n",
    "# replace labels\n",
    "new_labels = ['Attack', 'Normal']\n",
    "for t, l in zip(g._legend.texts, new_labels): t.set_text(l)\n",
    "font1 = {'family':'serif','color':'blue','size':20}\n",
    "font2 = {'family':'serif','color':'darkred','size':15}\n",
    "plt.xlabel(\"byte\",fontdict = font2)\n",
    "plt.ylabel(\"Class\",fontdict = font2)\n",
    "plt.show()"
   ]
  },
  {
   "cell_type": "markdown",
   "metadata": {},
   "source": [
    "Inference: There are critical contrasts in the data packet size among normal and botnet IoT traffic.The botnet traffic has a small packet in size so it can attempt to open as many requests as possible with victim IoT devices to exhaust resources"
   ]
  },
  {
   "cell_type": "markdown",
   "metadata": {},
   "source": [
    "# Analysis of source port  versus class (Normal and Attack data)"
   ]
  },
  {
   "cell_type": "code",
   "execution_count": 48,
   "metadata": {},
   "outputs": [
    {
     "name": "stderr",
     "output_type": "stream",
     "text": [
      "C:\\Users\\Sheetal\\anaconda3\\lib\\site-packages\\seaborn\\_decorators.py:36: FutureWarning: Pass the following variables as keyword args: x, y, data. From version 0.12, the only valid positional argument will be `data`, and passing other arguments without an explicit keyword will result in an error or misinterpretation.\n",
      "  warnings.warn(\n"
     ]
    },
    {
     "data": {
      "image/png": "[encoded data removed]",
      "text/plain": [
       "<Figure size 720x360 with 1 Axes>"
      ]
     },
     "metadata": {
      "needs_background": "light"
     },
     "output_type": "display_data"
    }
   ],
   "source": [
    "g=sns.lmplot('sp', 'Label', data_encoded, hue='Label', markers=[\"o\", \"x\"],fit_reg=False,palette=['red','green'])\n",
    "plt.ylim([-2, 2])\n",
    "fig = plt.gcf()\n",
    "fig.set_size_inches(10, 5)\n",
    "new_title = 'Class'\n",
    "g._legend.set_title(new_title)\n",
    "# replace labels\n",
    "new_labels = ['Attack', 'Normal']\n",
    "for t, l in zip(g._legend.texts, new_labels): t.set_text(l)\n",
    "font1 = {'family':'serif','color':'blue','size':20}\n",
    "font2 = {'family':'serif','color':'darkred','size':15}\n",
    "plt.xlabel(\"SOURCE PORT\",fontdict = font2)\n",
    "plt.ylabel(\"Class\",fontdict = font2)\n",
    "plt.show()"
   ]
  },
  {
   "cell_type": "markdown",
   "metadata": {},
   "source": [
    "Inference:Source port number is a number for correspondence that is related to the beginning applications on the local host. IoT gadgets have some predetermined numbers of communications. Generally, normal tra±c changes less source ports; however, malicious\n",
    "or botnet tra±c changes lots of source ports with the goal that it can send its activities from the di®erent gadgets and can utilize IoT resources . The more changes the number of source ports, the greater is the likelihood of the malicious attack on IoT devices."
   ]
  },
  {
   "cell_type": "markdown",
   "metadata": {},
   "source": [
    "# Analysis of destination  port  versus class (Normal and Attack data)"
   ]
  },
  {
   "cell_type": "code",
   "execution_count": 49,
   "metadata": {},
   "outputs": [
    {
     "name": "stderr",
     "output_type": "stream",
     "text": [
      "C:\\Users\\Sheetal\\anaconda3\\lib\\site-packages\\seaborn\\_decorators.py:36: FutureWarning: Pass the following variables as keyword args: x, y, data. From version 0.12, the only valid positional argument will be `data`, and passing other arguments without an explicit keyword will result in an error or misinterpretation.\n",
      "  warnings.warn(\n"
     ]
    },
    {
     "data": {
      "image/png": "[encoded data removed]",
      "text/plain": [
       "<Figure size 720x360 with 1 Axes>"
      ]
     },
     "metadata": {
      "needs_background": "light"
     },
     "output_type": "display_data"
    }
   ],
   "source": [
    "g=sns.lmplot('dp', 'Label', data_encoded, hue='Label', markers=[\"o\", \"x\"],fit_reg=False,palette=['red','green'])\n",
    "plt.ylim([-2, 2])\n",
    "fig = plt.gcf()\n",
    "fig.set_size_inches(10, 5)\n",
    "new_title = 'Class'\n",
    "g._legend.set_title(new_title)\n",
    "# replace labels\n",
    "new_labels = ['Attack', 'Normal']\n",
    "for t, l in zip(g._legend.texts, new_labels): t.set_text(l)\n",
    "font1 = {'family':'serif','color':'blue','size':20}\n",
    "font2 = {'family':'serif','color':'darkred','size':15}\n",
    "plt.xlabel(\"Dest PORT\",fontdict = font2)\n",
    "plt.ylabel(\"Class\",fontdict = font2)\n",
    "plt.show()"
   ]
  },
  {
   "cell_type": "markdown",
   "metadata": {},
   "source": [
    "Infernece:The destination port number is the number for this correspondence related to the destination application on the remote host. IoT devices have some short communication with other devices, that is why its destination ports are less in number and rarely change . However, botnet regularly changes its destination to keep the IoT devices busy. It is a significant characteristic for the botnet related to IoT traffic."
   ]
  },
  {
   "cell_type": "code",
   "execution_count": 50,
   "metadata": {},
   "outputs": [
    {
     "name": "stderr",
     "output_type": "stream",
     "text": [
      "C:\\Users\\Sheetal\\anaconda3\\lib\\site-packages\\seaborn\\_decorators.py:36: FutureWarning: Pass the following variables as keyword args: x, y, data. From version 0.12, the only valid positional argument will be `data`, and passing other arguments without an explicit keyword will result in an error or misinterpretation.\n",
      "  warnings.warn(\n"
     ]
    },
    {
     "data": {
      "image/png": "[encoded data removed]",
      "text/plain": [
       "<Figure size 720x360 with 1 Axes>"
      ]
     },
     "metadata": {
      "needs_background": "light"
     },
     "output_type": "display_data"
    }
   ],
   "source": [
    "g=sns.lmplot('ipkt', 'Label', data_encoded, hue='Label', markers=[\"o\", \"x\"],fit_reg=False,palette=['red','green'])\n",
    "plt.ylim([-2, 2])\n",
    "fig = plt.gcf()\n",
    "fig.set_size_inches(10, 5)\n",
    "new_title = 'Class'\n",
    "g._legend.set_title(new_title)\n",
    "# replace labels\n",
    "new_labels = ['Attack', 'Normal']\n",
    "for t, l in zip(g._legend.texts, new_labels): t.set_text(l)\n",
    "font1 = {'family':'serif','color':'blue','size':20}\n",
    "font2 = {'family':'serif','color':'darkred','size':15}\n",
    "plt.xlabel(\"Input packet\",fontdict = font2)\n",
    "plt.ylabel(\"Class\",fontdict = font2)\n",
    "plt.show()"
   ]
  },
  {
   "cell_type": "code",
   "execution_count": 51,
   "metadata": {},
   "outputs": [
    {
     "data": {
      "text/html": [
       "<div>\n",
       "<style scoped>\n",
       "    .dataframe tbody tr th:only-of-type {\n",
       "        vertical-align: middle;\n",
       "    }\n",
       "\n",
       "    .dataframe tbody tr th {\n",
       "        vertical-align: top;\n",
       "    }\n",
       "\n",
       "    .dataframe thead th {\n",
       "        text-align: right;\n",
       "    }\n",
       "</style>\n",
       "<table border=\"1\" class=\"dataframe\">\n",
       "  <thead>\n",
       "    <tr style=\"text-align: right;\">\n",
       "      <th></th>\n",
       "      <th>td</th>\n",
       "      <th>sp</th>\n",
       "      <th>dp</th>\n",
       "      <th>ipkt</th>\n",
       "      <th>ibyt</th>\n",
       "      <th>Label</th>\n",
       "    </tr>\n",
       "  </thead>\n",
       "  <tbody>\n",
       "    <tr>\n",
       "      <th>0</th>\n",
       "      <td>117.65</td>\n",
       "      <td>443.0</td>\n",
       "      <td>46286.0</td>\n",
       "      <td>19938.0</td>\n",
       "      <td>29744872.0</td>\n",
       "      <td>1</td>\n",
       "    </tr>\n",
       "    <tr>\n",
       "      <th>1</th>\n",
       "      <td>117.65</td>\n",
       "      <td>46286.0</td>\n",
       "      <td>443.0</td>\n",
       "      <td>9944.0</td>\n",
       "      <td>616449.0</td>\n",
       "      <td>1</td>\n",
       "    </tr>\n",
       "    <tr>\n",
       "      <th>2</th>\n",
       "      <td>255253.00</td>\n",
       "      <td>443.0</td>\n",
       "      <td>54308.0</td>\n",
       "      <td>8.0</td>\n",
       "      <td>447.0</td>\n",
       "      <td>1</td>\n",
       "    </tr>\n",
       "    <tr>\n",
       "      <th>3</th>\n",
       "      <td>255253.00</td>\n",
       "      <td>54308.0</td>\n",
       "      <td>443.0</td>\n",
       "      <td>9.0</td>\n",
       "      <td>444.0</td>\n",
       "      <td>1</td>\n",
       "    </tr>\n",
       "    <tr>\n",
       "      <th>4</th>\n",
       "      <td>1538.00</td>\n",
       "      <td>443.0</td>\n",
       "      <td>43240.0</td>\n",
       "      <td>2.0</td>\n",
       "      <td>104.0</td>\n",
       "      <td>1</td>\n",
       "    </tr>\n",
       "  </tbody>\n",
       "</table>\n",
       "</div>"
      ],
      "text/plain": [
       "          td       sp       dp     ipkt        ibyt  Label\n",
       "0     117.65    443.0  46286.0  19938.0  29744872.0      1\n",
       "1     117.65  46286.0    443.0   9944.0    616449.0      1\n",
       "2  255253.00    443.0  54308.0      8.0       447.0      1\n",
       "3  255253.00  54308.0    443.0      9.0       444.0      1\n",
       "4    1538.00    443.0  43240.0      2.0       104.0      1"
      ]
     },
     "execution_count": 51,
     "metadata": {},
     "output_type": "execute_result"
    }
   ],
   "source": [
    "data_encoded.head()"
   ]
  },
  {
   "cell_type": "code",
   "execution_count": 52,
   "metadata": {},
   "outputs": [
    {
     "data": {
      "image/png": "[encoded data removed]",
      "text/plain": [
       "<Figure size 720x720 with 2 Axes>"
      ]
     },
     "metadata": {
      "needs_background": "light"
     },
     "output_type": "display_data"
    }
   ],
   "source": [
    "X = data_encoded.iloc[:,0:5]  #independent columns\n",
    "y = data_encoded.iloc[:,-1]    #target column \n",
    "#get correlations of each features in dataset\n",
    "corrmat = data_encoded.corr()\n",
    "top_corr_features = corrmat.index\n",
    "plt.figure(figsize=(10,10))\n",
    "#plot heat map\n",
    "g=sns.heatmap(data_encoded[top_corr_features].corr(),annot=True,cmap=\"RdYlGn\")"
   ]
  },
  {
   "cell_type": "code",
   "execution_count": 53,
   "metadata": {},
   "outputs": [
    {
     "data": {
      "text/html": [
       "<div>\n",
       "<style scoped>\n",
       "    .dataframe tbody tr th:only-of-type {\n",
       "        vertical-align: middle;\n",
       "    }\n",
       "\n",
       "    .dataframe tbody tr th {\n",
       "        vertical-align: top;\n",
       "    }\n",
       "\n",
       "    .dataframe thead th {\n",
       "        text-align: right;\n",
       "    }\n",
       "</style>\n",
       "<table border=\"1\" class=\"dataframe\">\n",
       "  <thead>\n",
       "    <tr style=\"text-align: right;\">\n",
       "      <th></th>\n",
       "      <th>td</th>\n",
       "      <th>sp</th>\n",
       "      <th>dp</th>\n",
       "      <th>ipkt</th>\n",
       "      <th>ibyt</th>\n",
       "      <th>Label</th>\n",
       "    </tr>\n",
       "  </thead>\n",
       "  <tbody>\n",
       "    <tr>\n",
       "      <th>count</th>\n",
       "      <td>1.180080e+05</td>\n",
       "      <td>467456.000000</td>\n",
       "      <td>478484.000000</td>\n",
       "      <td>478629.000000</td>\n",
       "      <td>4.786290e+05</td>\n",
       "      <td>478629.000000</td>\n",
       "    </tr>\n",
       "    <tr>\n",
       "      <th>mean</th>\n",
       "      <td>3.625384e+03</td>\n",
       "      <td>32866.876906</td>\n",
       "      <td>3452.906916</td>\n",
       "      <td>4.604978</td>\n",
       "      <td>2.798084e+03</td>\n",
       "      <td>-0.993511</td>\n",
       "    </tr>\n",
       "    <tr>\n",
       "      <th>std</th>\n",
       "      <td>2.427921e+04</td>\n",
       "      <td>19667.573988</td>\n",
       "      <td>11996.154121</td>\n",
       "      <td>267.727323</td>\n",
       "      <td>3.565455e+05</td>\n",
       "      <td>0.113739</td>\n",
       "    </tr>\n",
       "    <tr>\n",
       "      <th>min</th>\n",
       "      <td>1.000000e-02</td>\n",
       "      <td>1.000000</td>\n",
       "      <td>1.000000</td>\n",
       "      <td>1.000000</td>\n",
       "      <td>2.000000e+01</td>\n",
       "      <td>-1.000000</td>\n",
       "    </tr>\n",
       "    <tr>\n",
       "      <th>25%</th>\n",
       "      <td>7.200000e+00</td>\n",
       "      <td>15678.000000</td>\n",
       "      <td>23.000000</td>\n",
       "      <td>1.000000</td>\n",
       "      <td>4.000000e+01</td>\n",
       "      <td>-1.000000</td>\n",
       "    </tr>\n",
       "    <tr>\n",
       "      <th>50%</th>\n",
       "      <td>4.150000e+02</td>\n",
       "      <td>35561.000000</td>\n",
       "      <td>23.000000</td>\n",
       "      <td>1.000000</td>\n",
       "      <td>4.000000e+01</td>\n",
       "      <td>-1.000000</td>\n",
       "    </tr>\n",
       "    <tr>\n",
       "      <th>75%</th>\n",
       "      <td>7.181000e+03</td>\n",
       "      <td>49617.000000</td>\n",
       "      <td>81.000000</td>\n",
       "      <td>1.000000</td>\n",
       "      <td>4.000000e+01</td>\n",
       "      <td>-1.000000</td>\n",
       "    </tr>\n",
       "    <tr>\n",
       "      <th>max</th>\n",
       "      <td>3.517244e+06</td>\n",
       "      <td>65535.000000</td>\n",
       "      <td>65535.000000</td>\n",
       "      <td>95063.000000</td>\n",
       "      <td>1.419528e+08</td>\n",
       "      <td>1.000000</td>\n",
       "    </tr>\n",
       "  </tbody>\n",
       "</table>\n",
       "</div>"
      ],
      "text/plain": [
       "                 td             sp             dp           ipkt  \\\n",
       "count  1.180080e+05  467456.000000  478484.000000  478629.000000   \n",
       "mean   3.625384e+03   32866.876906    3452.906916       4.604978   \n",
       "std    2.427921e+04   19667.573988   11996.154121     267.727323   \n",
       "min    1.000000e-02       1.000000       1.000000       1.000000   \n",
       "25%    7.200000e+00   15678.000000      23.000000       1.000000   \n",
       "50%    4.150000e+02   35561.000000      23.000000       1.000000   \n",
       "75%    7.181000e+03   49617.000000      81.000000       1.000000   \n",
       "max    3.517244e+06   65535.000000   65535.000000   95063.000000   \n",
       "\n",
       "               ibyt          Label  \n",
       "count  4.786290e+05  478629.000000  \n",
       "mean   2.798084e+03      -0.993511  \n",
       "std    3.565455e+05       0.113739  \n",
       "min    2.000000e+01      -1.000000  \n",
       "25%    4.000000e+01      -1.000000  \n",
       "50%    4.000000e+01      -1.000000  \n",
       "75%    4.000000e+01      -1.000000  \n",
       "max    1.419528e+08       1.000000  "
      ]
     },
     "execution_count": 53,
     "metadata": {},
     "output_type": "execute_result"
    }
   ],
   "source": [
    "data_encoded.describe()"
   ]
  },
  {
   "cell_type": "markdown",
   "metadata": {},
   "source": [
    "### Anamoly Detection using  One Class SVM and Local Outlier Factor "
   ]
  },
  {
   "cell_type": "code",
   "execution_count": 655,
   "metadata": {},
   "outputs": [],
   "source": [
    "ip_data=pd.read_csv('C:/SIoT/Dataset/SC_L.csv')\n",
    "import matplotlib.pyplot as plt\n",
    "import seaborn as sns"
   ]
  },
  {
   "cell_type": "code",
   "execution_count": 656,
   "metadata": {},
   "outputs": [
    {
     "data": {
      "text/plain": [
       "(4904, 49)"
      ]
     },
     "execution_count": 656,
     "metadata": {},
     "output_type": "execute_result"
    }
   ],
   "source": [
    "ip_data.shape"
   ]
  },
  {
   "cell_type": "markdown",
   "metadata": {},
   "source": [
    "Taking only the relevant features based on correlations of each features in dataset."
   ]
  },
  {
   "cell_type": "code",
   "execution_count": 657,
   "metadata": {},
   "outputs": [],
   "source": [
    "relevant_features = [  \n",
    "    \"td\",\n",
    "    \"ibyt\",\n",
    "    \"ipkt\",\n",
    "    \"Label\" ]"
   ]
  },
  {
   "cell_type": "markdown",
   "metadata": {},
   "source": [
    "Transforming the dataframe to contain only relevant features"
   ]
  },
  {
   "cell_type": "code",
   "execution_count": 658,
   "metadata": {},
   "outputs": [],
   "source": [
    "ip_data = ip_data[relevant_features]"
   ]
  },
  {
   "cell_type": "markdown",
   "metadata": {},
   "source": [
    "Normalise the ip_data - which leads to better accuracy and reduces numerical instability."
   ]
  },
  {
   "cell_type": "code",
   "execution_count": 659,
   "metadata": {},
   "outputs": [],
   "source": [
    "ip_data[\"td\"] = np.log((ip_data[\"td\"] + 0.1).astype(float))  \n",
    "ip_data[\"ibyt\"] = np.log((ip_data[\"ibyt\"] + 0.1).astype(float))  \n",
    "ip_data[\"ipkt\"] = np.log((ip_data[\"ipkt\"] + 0.1).astype(float))  "
   ]
  },
  {
   "cell_type": "raw",
   "metadata": {},
   "source": [
    "In this dataset, the label has 0 and 1 values to differentiate normal and attack data,To evaluate the performance of the model as a binary classifier,  change the labels in the test dataset from 0 and 1 for the majority and minority classes respectively, to +1 and -1.\n",
    "\n",
    "+1 : Inliers (Normal data)\n",
    "-1: outliers ( Attack data) "
   ]
  },
  {
   "cell_type": "code",
   "execution_count": 660,
   "metadata": {},
   "outputs": [],
   "source": [
    "ip_data.loc[ip_data['Label'] == 0, \"traffic_behaviour\"] = 1  \n",
    "ip_data.loc[ip_data['Label'] != 0, \"traffic_behaviour\"] = -1"
   ]
  },
  {
   "cell_type": "markdown",
   "metadata": {},
   "source": [
    "setting traffic_behaviour value as the target for training and testing."
   ]
  },
  {
   "cell_type": "code",
   "execution_count": 661,
   "metadata": {},
   "outputs": [],
   "source": [
    "target = ip_data['traffic_behaviour']"
   ]
  },
  {
   "cell_type": "markdown",
   "metadata": {},
   "source": [
    "Finding  the proportion of outliers "
   ]
  },
  {
   "cell_type": "code",
   "execution_count": 662,
   "metadata": {},
   "outputs": [
    {
     "name": "stdout",
     "output_type": "stream",
     "text": [
      "outliers.shape (417,)\n",
      "outlier fraction 0.0850326264274062\n"
     ]
    }
   ],
   "source": [
    "outliers = target[target == -1]  \n",
    "print(\"outliers.shape\", outliers.shape)  \n",
    "print(\"outlier fraction\", outliers.shape[0]/target.shape[0])"
   ]
  },
  {
   "cell_type": "markdown",
   "metadata": {},
   "source": [
    "The main difference of one class svm from a standard SVM is that it is fit in an unsupervised manner, hence dropping the label and traffic behavior columns"
   ]
  },
  {
   "cell_type": "code",
   "execution_count": 663,
   "metadata": {},
   "outputs": [],
   "source": [
    "ip_data.drop([\"Label\", \"traffic_behaviour\"], axis=1, inplace=True)"
   ]
  },
  {
   "cell_type": "code",
   "execution_count": 664,
   "metadata": {},
   "outputs": [
    {
     "data": {
      "text/plain": [
       "(3923, 3)"
      ]
     },
     "execution_count": 664,
     "metadata": {},
     "output_type": "execute_result"
    }
   ],
   "source": [
    "from sklearn.model_selection import train_test_split  \n",
    "train_data, test_data, train_target, test_target = train_test_split(ip_data,target,test_size=0.2, train_size=0.8)  \n",
    "train_data.shape "
   ]
  },
  {
   "cell_type": "code",
   "execution_count": 665,
   "metadata": {},
   "outputs": [
    {
     "name": "stdout",
     "output_type": "stream",
     "text": [
      "nu 0.0850326264274062\n"
     ]
    }
   ],
   "source": [
    "from sklearn import svm\n",
    "nu = outliers.shape[0] / target.shape[0]  \n",
    "print(\"nu\", nu)"
   ]
  },
  {
   "cell_type": "code",
   "execution_count": 666,
   "metadata": {},
   "outputs": [
    {
     "data": {
      "text/plain": [
       "OneClassSVM(gamma=5e-05, nu=0.0850326264274062)"
      ]
     },
     "execution_count": 666,
     "metadata": {},
     "output_type": "execute_result"
    }
   ],
   "source": [
    "model = svm.OneClassSVM(nu=nu, kernel='rbf', gamma=0.00005)  \n",
    "model.fit(train_data) "
   ]
  },
  {
   "cell_type": "code",
   "execution_count": 667,
   "metadata": {},
   "outputs": [],
   "source": [
    "from sklearn import metrics  \n",
    "preds_train = model.predict(train_data)  \n",
    "targs_train = train_target\n"
   ]
  },
  {
   "cell_type": "code",
   "execution_count": 668,
   "metadata": {},
   "outputs": [
    {
     "data": {
      "text/plain": [
       "3923"
      ]
     },
     "execution_count": 668,
     "metadata": {},
     "output_type": "execute_result"
    }
   ],
   "source": [
    "preds_train.size\n",
    "targs_train.size"
   ]
  },
  {
   "cell_type": "code",
   "execution_count": 669,
   "metadata": {},
   "outputs": [
    {
     "name": "stdout",
     "output_type": "stream",
     "text": [
      "accuracy:  0.8241141983176141\n",
      "precision:  0.9040290990486849\n",
      "recall:  0.903018446059251\n",
      "f1:  0.9035234899328858\n",
      "area under curve (auc):  0.45440777375426317\n"
     ]
    }
   ],
   "source": [
    "print(\"accuracy: \", metrics.accuracy_score(targs_train, preds_train))  \n",
    "print(\"precision: \", metrics.precision_score(targs_train, preds_train))  \n",
    "print(\"recall: \", metrics.recall_score(targs_train, preds_train))  \n",
    "print(\"f1: \", metrics.f1_score(targs_train, preds_train))  \n",
    "print(\"area under curve (auc): \", metrics.roc_auc_score(targs_train, preds_train))\n"
   ]
  },
  {
   "cell_type": "code",
   "execution_count": 670,
   "metadata": {},
   "outputs": [],
   "source": [
    "preds = model.predict(test_data)  \n",
    "targs = test_target"
   ]
  },
  {
   "cell_type": "code",
   "execution_count": 671,
   "metadata": {},
   "outputs": [
    {
     "name": "stdout",
     "output_type": "stream",
     "text": [
      "accuracy:  0.8226299694189603\n",
      "precision:  0.9190421892816419\n",
      "recall:  0.8866886688668867\n",
      "f1:  0.9025755879059351\n",
      "area under curve (auc):  0.45028877887788776\n"
     ]
    }
   ],
   "source": [
    "print(\"accuracy: \", metrics.accuracy_score(targs, preds))  \n",
    "print(\"precision: \", metrics.precision_score(targs, preds))  \n",
    "print(\"recall: \", metrics.recall_score(targs, preds))  \n",
    "print(\"f1: \", metrics.f1_score(targs, preds))  \n",
    "print(\"area under curve (auc): \", metrics.roc_auc_score(targs, preds)) "
   ]
  },
  {
   "cell_type": "markdown",
   "metadata": {},
   "source": [
    "### Outlier detection with Local Outlier Factor (LOF)"
   ]
  },
  {
   "cell_type": "markdown",
   "metadata": {},
   "source": [
    "Lof is a technique that attempts to harness the idea of nearest neighbors for outlier detection. Each example is assigned a scoring of how isolated or how likely it is to be outliers based on the size of its local neighborhood. Those examples with the largest score are more likely to be outliers."
   ]
  },
  {
   "cell_type": "code",
   "execution_count": 591,
   "metadata": {},
   "outputs": [],
   "source": [
    "from sklearn.neighbors import LocalOutlierFactor\n",
    "from sklearn.metrics import mean_absolute_error"
   ]
  },
  {
   "cell_type": "code",
   "execution_count": 592,
   "metadata": {},
   "outputs": [],
   "source": [
    "new_data=pd.read_csv('C:/SIoT/Dataset/SC_L.csv')"
   ]
  },
  {
   "cell_type": "code",
   "execution_count": 593,
   "metadata": {},
   "outputs": [
    {
     "data": {
      "text/plain": [
       "Label\n",
       "0    4487\n",
       "1     417\n",
       "dtype: int64"
      ]
     },
     "execution_count": 593,
     "metadata": {},
     "output_type": "execute_result"
    }
   ],
   "source": [
    "new_data.groupby('Label').size()"
   ]
  },
  {
   "cell_type": "code",
   "execution_count": 594,
   "metadata": {},
   "outputs": [],
   "source": [
    "relevant_features = [  \n",
    "    \"td\",\n",
    "    \"ibyt\",\n",
    "    \"ipkt\",\n",
    "    \"Label\" ]"
   ]
  },
  {
   "cell_type": "code",
   "execution_count": 595,
   "metadata": {},
   "outputs": [],
   "source": [
    "new_data = new_data[relevant_features]"
   ]
  },
  {
   "cell_type": "code",
   "execution_count": 596,
   "metadata": {},
   "outputs": [],
   "source": [
    "new_data[\"td\"] = np.log((new_data[\"td\"] + 0.1).astype(float))  \n",
    "new_data[\"ibyt\"] = np.log((new_data[\"ibyt\"] + 0.1).astype(float))  \n",
    "new_data[\"ipkt\"] = np.log((new_data[\"ipkt\"] + 0.1).astype(float))"
   ]
  },
  {
   "cell_type": "code",
   "execution_count": 597,
   "metadata": {},
   "outputs": [],
   "source": [
    "new_data.loc[new_data['Label'] == 0, \"traffic_behaviour\"] = 1  \n",
    "new_data.loc[new_data['Label'] != 0, \"traffic_behaviour\"] = -1"
   ]
  },
  {
   "cell_type": "code",
   "execution_count": 598,
   "metadata": {},
   "outputs": [],
   "source": [
    "new_data.drop([\"Label\"], axis=1, inplace=True)"
   ]
  },
  {
   "cell_type": "markdown",
   "metadata": {},
   "source": [
    " retrieve the array"
   ]
  },
  {
   "cell_type": "code",
   "execution_count": 599,
   "metadata": {},
   "outputs": [],
   "source": [
    "data = new_data.values"
   ]
  },
  {
   "cell_type": "markdown",
   "metadata": {},
   "source": [
    "split into input and output elements"
   ]
  },
  {
   "cell_type": "code",
   "execution_count": 600,
   "metadata": {},
   "outputs": [],
   "source": [
    "X, y = data[:, :-1], data[:, -1]"
   ]
  },
  {
   "cell_type": "markdown",
   "metadata": {},
   "source": [
    "split into train and test sets"
   ]
  },
  {
   "cell_type": "code",
   "execution_count": 601,
   "metadata": {},
   "outputs": [],
   "source": [
    "X_train, X_test, y_train, y_test = train_test_split(X, y, test_size=0.3)"
   ]
  },
  {
   "cell_type": "code",
   "execution_count": 602,
   "metadata": {},
   "outputs": [
    {
     "name": "stdout",
     "output_type": "stream",
     "text": [
      "(3432, 3) (3432,)\n"
     ]
    }
   ],
   "source": [
    "print(X_train.shape, y_train.shape)"
   ]
  },
  {
   "cell_type": "markdown",
   "metadata": {},
   "source": [
    "identify outliers in the training dataset"
   ]
  },
  {
   "cell_type": "code",
   "execution_count": 603,
   "metadata": {},
   "outputs": [],
   "source": [
    "lof = LocalOutlierFactor()\n",
    "yhat = lof.fit_predict(X_train)"
   ]
  },
  {
   "cell_type": "markdown",
   "metadata": {},
   "source": [
    "select all rows that are not outliers"
   ]
  },
  {
   "cell_type": "code",
   "execution_count": 604,
   "metadata": {},
   "outputs": [],
   "source": [
    "mask = yhat != -1\n",
    "X_train, y_train = X_train[mask, :], y_train[mask]"
   ]
  },
  {
   "cell_type": "code",
   "execution_count": 605,
   "metadata": {},
   "outputs": [
    {
     "name": "stdout",
     "output_type": "stream",
     "text": [
      "(3117, 3) (3117,)\n"
     ]
    }
   ],
   "source": [
    "print(X_train.shape, y_train.shape)"
   ]
  },
  {
   "cell_type": "code",
   "execution_count": 606,
   "metadata": {},
   "outputs": [
    {
     "data": {
      "text/plain": [
       "LinearRegression()"
      ]
     },
     "execution_count": 606,
     "metadata": {},
     "output_type": "execute_result"
    }
   ],
   "source": [
    "from sklearn.linear_model import LinearRegression\n",
    "model = LinearRegression()\n",
    "#fit the model\n",
    "model.fit(X_train, y_train)"
   ]
  },
  {
   "cell_type": "markdown",
   "metadata": {},
   "source": [
    "evaluate the model"
   ]
  },
  {
   "cell_type": "code",
   "execution_count": 608,
   "metadata": {},
   "outputs": [],
   "source": [
    "yhat = model.predict(X_test)"
   ]
  },
  {
   "cell_type": "markdown",
   "metadata": {},
   "source": [
    "evaluate predictions"
   ]
  },
  {
   "cell_type": "code",
   "execution_count": 554,
   "metadata": {},
   "outputs": [
    {
     "name": "stdout",
     "output_type": "stream",
     "text": [
      "MAE: 0.311\n"
     ]
    }
   ],
   "source": [
    "mae = mean_absolute_error(y_test, yhat)\n",
    "print('MAE: %.3f' % mae)"
   ]
  },
  {
   "cell_type": "markdown",
   "metadata": {},
   "source": [
    "\n",
    "#### OSVM, LOF algortihms have been trained in network-based data, including time duration, input packet size, number of bytes .Results from the botnet dataset suggest that the ML models have achieved accuracy of 80% and mean absolute error of 0.311."
   ]
  }
 ],
 "metadata": {
  "kernelspec": {
   "display_name": "Python 3",
   "language": "python",
   "name": "python3"
  },
  "language_info": {
   "codemirror_mode": {
    "name": "ipython",
    "version": 3
   },
   "file_extension": ".py",
   "mimetype": "text/x-python",
   "name": "python",
   "nbconvert_exporter": "python",
   "pygments_lexer": "ipython3",
   "version": "3.8.5"
  }
 },
 "nbformat": 4,
 "nbformat_minor": 4
}
